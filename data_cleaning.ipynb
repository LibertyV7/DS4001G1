{
 "cells": [
  {
   "cell_type": "code",
   "execution_count": 2,
   "metadata": {},
   "outputs": [],
   "source": [
    "import pandas as pd\n",
    "import numpy as np\n",
    "import plotly.express as px\n",
    "import plotly.graph_objects as go\n",
    "from sklearn.cluster import KMeans\n",
    "from sklearn.model_selection import train_test_split\n",
    "from sklearn.tree import DecisionTreeClassifier\n",
    "from sklearn.metrics import confusion_matrix\n",
    "import os"
   ]
  },
  {
   "cell_type": "code",
   "execution_count": 3,
   "metadata": {},
   "outputs": [
    {
     "name": "stdout",
     "output_type": "stream",
     "text": [
      "<class 'pandas.core.frame.DataFrame'>\n",
      "RangeIndex: 3699 entries, 0 to 3698\n",
      "Data columns (total 24 columns):\n",
      " #   Column      Non-Null Count  Dtype  \n",
      "---  ------      --------------  -----  \n",
      " 0   case_id     3699 non-null   int64  \n",
      " 1   multi_poly  3699 non-null   object \n",
      " 2   eia_id      3699 non-null   int64  \n",
      " 3   p_state     3699 non-null   object \n",
      " 4   p_county    3699 non-null   object \n",
      " 5   ylat        3699 non-null   float64\n",
      " 6   xlong       3699 non-null   float64\n",
      " 7   p_area      3699 non-null   int64  \n",
      " 8   p_img_date  3699 non-null   int64  \n",
      " 9   p_dig_conf  3699 non-null   int64  \n",
      " 10  p_name      3699 non-null   object \n",
      " 11  p_year      3699 non-null   int64  \n",
      " 12  p_pwr_reg   3685 non-null   object \n",
      " 13  p_tech_pri  3699 non-null   object \n",
      " 14  p_tech_sec  3699 non-null   object \n",
      " 15  p_axis      3436 non-null   object \n",
      " 16  p_azimuth   3699 non-null   int64  \n",
      " 17  p_tilt      3265 non-null   float64\n",
      " 18  p_battery   103 non-null    object \n",
      " 19  p_cap_ac    3699 non-null   float64\n",
      " 20  p_cap_dc    3699 non-null   float64\n",
      " 21  p_type      3699 non-null   object \n",
      " 22  p_agrivolt  3699 non-null   object \n",
      " 23  p_zscore    3699 non-null   float64\n",
      "dtypes: float64(6), int64(7), object(11)\n",
      "memory usage: 693.7+ KB\n"
     ]
    }
   ],
   "source": [
    "solar_data = pd.read_csv('solar_data.csv')\n",
    "solar_data.info()"
   ]
  },
  {
   "cell_type": "code",
   "execution_count": 4,
   "metadata": {},
   "outputs": [
    {
     "data": {
      "text/plain": [
       "p_axis\n",
       "fixed-tilt     1975\n",
       "single-axis    1430\n",
       "dual-axis        25\n",
       "combination       6\n",
       "Name: count, dtype: int64"
      ]
     },
     "execution_count": 4,
     "metadata": {},
     "output_type": "execute_result"
    }
   ],
   "source": [
    "solar_data['p_axis'] = solar_data['p_axis'].replace({\n",
    "    'fixed-tilt,single-axis': 'combination',\n",
    "    'fixed-tilt,single-axis,dual-axis': 'combination'\n",
    "})\n",
    "solar_data['p_axis'].value_counts()"
   ]
  },
  {
   "cell_type": "code",
   "execution_count": 5,
   "metadata": {},
   "outputs": [
    {
     "data": {
      "text/plain": [
       "p_type\n",
       "greenfield      3522\n",
       "landfill         115\n",
       "contaminated      62\n",
       "Name: count, dtype: int64"
      ]
     },
     "execution_count": 5,
     "metadata": {},
     "output_type": "execute_result"
    }
   ],
   "source": [
    "solar_data['p_type'] = solar_data['p_type'].replace({'landfill': 'landfill', 'landfill named': 'landfill',\n",
    "                                                     'greenfield': 'greenfield',\n",
    "                                                     'PCSC': 'contaminated', 'superfund': 'contaminated',\n",
    "                                                     'RCRA': 'contaminated', 'AML': 'contaminated'})\n",
    "(solar_data['p_type'].value_counts())\n"
   ]
  },
  {
   "cell_type": "code",
   "execution_count": 6,
   "metadata": {},
   "outputs": [
    {
     "name": "stdout",
     "output_type": "stream",
     "text": [
      "p_tech_sec\n",
      "c-si           2962\n",
      "thin-film       396\n",
      "unknown         333\n",
      "combination       4\n",
      "cpv               4\n",
      "Name: count, dtype: int64\n"
     ]
    }
   ],
   "source": [
    "solar_data['p_tech_sec'].value_counts()\n",
    "solar_data['p_tech_sec'] = solar_data['p_tech_sec'].replace({\n",
    "    'c-si': 'c-si',\n",
    "    'thin film': 'thin-film',\n",
    "    'unknown': 'unknown',\n",
    "    'cpv': 'cpv',\n",
    "    'c-si,thin-film': 'combination',\n",
    "    'c-si,cpv': 'combination',\n",
    "    'c-si,thin-film,cpv': 'combination'\n",
    "})\n",
    "# Verify the changes\n",
    "print(solar_data['p_tech_sec'].value_counts())"
   ]
  },
  {
   "cell_type": "code",
   "execution_count": 7,
   "metadata": {},
   "outputs": [
    {
     "data": {
      "text/plain": [
       "p_agrivolt\n",
       "non-agrivoltaic    3633\n",
       "agrivoltaic          66\n",
       "Name: count, dtype: int64"
      ]
     },
     "execution_count": 7,
     "metadata": {},
     "output_type": "execute_result"
    }
   ],
   "source": [
    "solar_data['p_agrivolt'] = (solar_data['p_agrivolt'].apply(lambda x: x if x == 'non-agrivoltaic' else 'agrivoltaic'))\n",
    "solar_data['p_agrivolt'].value_counts()"
   ]
  },
  {
   "cell_type": "code",
   "execution_count": 8,
   "metadata": {},
   "outputs": [
    {
     "data": {
      "text/plain": [
       "p_battery\n",
       "batteries                            102\n",
       "solar thermal with energy storage      1\n",
       "Name: count, dtype: int64"
      ]
     },
     "execution_count": 8,
     "metadata": {},
     "output_type": "execute_result"
    }
   ],
   "source": [
    "solar_data['p_battery'].value_counts()"
   ]
  },
  {
   "cell_type": "code",
   "execution_count": 9,
   "metadata": {},
   "outputs": [
    {
     "name": "stdout",
     "output_type": "stream",
     "text": [
      "<class 'pandas.core.frame.DataFrame'>\n",
      "RangeIndex: 3699 entries, 0 to 3698\n",
      "Data columns (total 12 columns):\n",
      " #   Column      Non-Null Count  Dtype  \n",
      "---  ------      --------------  -----  \n",
      " 0   ylat        3699 non-null   float64\n",
      " 1   xlong       3699 non-null   float64\n",
      " 2   p_area      3699 non-null   int64  \n",
      " 3   p_tech_sec  3699 non-null   object \n",
      " 4   p_axis      3436 non-null   object \n",
      " 5   p_azimuth   3699 non-null   int64  \n",
      " 6   p_tilt      3265 non-null   float64\n",
      " 7   p_cap_ac    3699 non-null   float64\n",
      " 8   p_cap_dc    3699 non-null   float64\n",
      " 9   p_type      3699 non-null   object \n",
      " 10  p_agrivolt  3699 non-null   object \n",
      " 11  p_zscore    3699 non-null   float64\n",
      "dtypes: float64(6), int64(2), object(4)\n",
      "memory usage: 346.9+ KB\n"
     ]
    }
   ],
   "source": [
    "drop = [0, 1, 2, 8, 9, 10, 11, 12, 13, 18, 3, 4]\n",
    "solar_data = solar_data.drop(solar_data.columns[drop], axis=1)\n",
    "solar_data.info()"
   ]
  },
  {
   "cell_type": "code",
   "execution_count": null,
   "metadata": {},
   "outputs": [],
   "source": []
  }
 ],
 "metadata": {
  "kernelspec": {
   "display_name": "Python 3",
   "language": "python",
   "name": "python3"
  },
  "language_info": {
   "codemirror_mode": {
    "name": "ipython",
    "version": 3
   },
   "file_extension": ".py",
   "mimetype": "text/x-python",
   "name": "python",
   "nbconvert_exporter": "python",
   "pygments_lexer": "ipython3",
   "version": "3.9.6"
  },
  "orig_nbformat": 4
 },
 "nbformat": 4,
 "nbformat_minor": 2
}
